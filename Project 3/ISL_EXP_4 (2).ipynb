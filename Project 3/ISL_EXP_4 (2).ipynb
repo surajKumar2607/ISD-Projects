{
  "cells": [
    {
      "cell_type": "code",
      "execution_count": 1,
      "metadata": {
        "id": "34D-BNzj1izR"
      },
      "outputs": [],
      "source": [
        "import numpy as np\n",
        "import cv2 as cv\n",
        "import matplotlib.pyplot as plt"
      ]
    },
    {
      "cell_type": "markdown",
      "source": [
        "# **Question 1**"
      ],
      "metadata": {
        "id": "AatpSYQiTayI"
      }
    },
    {
      "cell_type": "code",
      "execution_count": 3,
      "metadata": {
        "id": "FPr9ONeB1-7T",
        "colab": {
          "base_uri": "https://localhost:8080/"
        },
        "outputId": "6bc5bbf1-354d-4f35-e798-6d95205818b3"
      },
      "outputs": [
        {
          "output_type": "execute_result",
          "data": {
            "text/plain": [
              "384"
            ]
          },
          "metadata": {},
          "execution_count": 3
        }
      ],
      "source": [
        "#Loading of the numpy file and the images\n",
        "img1 = cv.imread(\"img1.jpg\",0)\n",
        "img2 = cv.imread(\"img2.jpg\",0)\n",
        "I = [img1,img2]\n",
        "a = np.load(\"GT2.npy\")\n",
        "len(I[0])"
      ]
    },
    {
      "cell_type": "code",
      "execution_count": 6,
      "metadata": {
        "id": "Il8HNJdZ4dpB"
      },
      "outputs": [],
      "source": [
        "# function to calculate the partial derivatives\n",
        "# values t can take are restricted to 0 and 1\n",
        "\n",
        "def Ix(I,k,l,t):\n",
        "  temp1 = I[t][k+1][l] + I[t][k+1][l+1] + I[t+1][k+1][l] + I[t+1][k+1][l+1]\n",
        "  temp2 = I[t][k][l] + I[t][k][l+1] + I[t+1][k][l] + I[t+1][k][l+1]\n",
        "\n",
        "  return 0.25*(temp1 - temp2)\n",
        "\n",
        "def Iy(I,k,l,t):\n",
        "  temp1 = I[t][k][l+1] + I[t][k+1][l+1] + I[t+1][k][l+1] + I[t+1][k+1][l+1]\n",
        "  temp2 = I[t][k][l] + I[t][k+1][l] + I[t+1][k][l] + I[t+1][k+1][l]\n",
        "\n",
        "  return 0.25*(temp1 - temp2)\n",
        "\n",
        "def It(I,k,l,t):\n",
        "  temp1 = I[t+1][k][l] + I[t+1][k][l+1] + I[t+1][k+1][l] + I[t+1][k+1][l+1]\n",
        "  temp2 = I[t][k][l] + I[t][k][l+1] + I[t][k+1][l] + I[t][k+1][l+1]\n",
        "\n",
        "  return 0.25*(temp1 - temp2)\n",
        "  "
      ]
    },
    {
      "cell_type": "code",
      "execution_count": 7,
      "metadata": {
        "id": "g2vIZNjXL-Id"
      },
      "outputs": [],
      "source": [
        "# padding of the image\n",
        "def padImage(img,size):\n",
        "  w = size//2\n",
        "  img = np.pad(img,((w,w),(w,w)), 'constant', constant_values = 0)\n",
        "  return img"
      ]
    },
    {
      "cell_type": "code",
      "execution_count": 8,
      "metadata": {
        "id": "Tg3Mw71jHAq8"
      },
      "outputs": [],
      "source": [
        "# Calculation of optical flow at a particular pixel location using window size s\n",
        "\n",
        "def opflow(I,k,l,size):\n",
        "  w = size//2\n",
        "  t = 0\n",
        "  A = []\n",
        "  B = []\n",
        "  # print(l-w)\n",
        "  # print(l+w)\n",
        "  for i in range(k-w,k+1+w):\n",
        "    for j in range(l-w,l+1+w):\n",
        "      A.append([Ix(I,i,j,t),Iy(I,i,j,t)])\n",
        "      B.append(-It(I,i,j,t))\n",
        "      # A.append([2,2])\n",
        "      # B.append(2)\n",
        "\n",
        "  u = np.linalg.lstsq(A,B,)\n",
        "  u = u[0]\n",
        "  temp = np.sqrt(u[0]**2 + u[1]**2)\n",
        "\n",
        "  return temp\n",
        "\n"
      ]
    },
    {
      "cell_type": "code",
      "source": [],
      "metadata": {
        "id": "XrKTOuDZGMFa"
      },
      "execution_count": 8,
      "outputs": []
    },
    {
      "cell_type": "code",
      "execution_count": 9,
      "metadata": {
        "id": "I-upcfJlFZcG"
      },
      "outputs": [],
      "source": [
        "## Calculating the optical flow at every pixel\n",
        "\n",
        "def compute_opflow(I,size):\n",
        "  w = size//2\n",
        "  u = []\n",
        "  for i in range(w,len(I[0])-w-1):\n",
        "    print(\"In the \",i,\"th row\")\n",
        "    r = []\n",
        "    # print(w)\n",
        "    # print(len(I[0][0])-2*w)\n",
        "    for j in range(w,len(I[0][0])-w-1):\n",
        "      t = opflow(I,i,j,size)\n",
        "      # t = 3\n",
        "      r.append(t)\n",
        "    u.append(r)\n",
        "\n",
        "  return u\n"
      ]
    },
    {
      "cell_type": "code",
      "source": [],
      "metadata": {
        "id": "ybAeCKPqLRJt"
      },
      "execution_count": 9,
      "outputs": []
    },
    {
      "cell_type": "code",
      "source": [
        "image = [padImage(I[0],3),padImage(I[1],3)]\n",
        "image = np.array(image).astype('float64')\n",
        "image.shape\n",
        "final_image = compute_opflow(image,3)"
      ],
      "metadata": {
        "colab": {
          "base_uri": "https://localhost:8080/"
        },
        "id": "UQMG_S_sCtQs",
        "outputId": "a716843d-7407-40fd-d305-f5149cb3c6d3"
      },
      "execution_count": 10,
      "outputs": [
        {
          "output_type": "stream",
          "name": "stdout",
          "text": [
            "In the  1 th row\n",
            "In the  2 th row\n",
            "In the  3 th row\n"
          ]
        },
        {
          "output_type": "stream",
          "name": "stderr",
          "text": [
            "<ipython-input-8-83509a21455d>:17: FutureWarning: `rcond` parameter will change to the default of machine precision times ``max(M, N)`` where M and N are the input matrix dimensions.\n",
            "To use the future default and silence this warning we advise to pass `rcond=None`, to keep using the old, explicitly pass `rcond=-1`.\n",
            "  u = np.linalg.lstsq(A,B,)\n"
          ]
        },
        {
          "output_type": "stream",
          "name": "stdout",
          "text": [
            "In the  4 th row\n",
            "In the  5 th row\n",
            "In the  6 th row\n",
            "In the  7 th row\n",
            "In the  8 th row\n",
            "In the  9 th row\n",
            "In the  10 th row\n",
            "In the  11 th row\n",
            "In the  12 th row\n",
            "In the  13 th row\n",
            "In the  14 th row\n",
            "In the  15 th row\n",
            "In the  16 th row\n",
            "In the  17 th row\n",
            "In the  18 th row\n",
            "In the  19 th row\n",
            "In the  20 th row\n",
            "In the  21 th row\n",
            "In the  22 th row\n",
            "In the  23 th row\n",
            "In the  24 th row\n",
            "In the  25 th row\n",
            "In the  26 th row\n",
            "In the  27 th row\n",
            "In the  28 th row\n",
            "In the  29 th row\n",
            "In the  30 th row\n",
            "In the  31 th row\n",
            "In the  32 th row\n",
            "In the  33 th row\n",
            "In the  34 th row\n",
            "In the  35 th row\n",
            "In the  36 th row\n",
            "In the  37 th row\n",
            "In the  38 th row\n",
            "In the  39 th row\n",
            "In the  40 th row\n",
            "In the  41 th row\n",
            "In the  42 th row\n",
            "In the  43 th row\n",
            "In the  44 th row\n",
            "In the  45 th row\n",
            "In the  46 th row\n",
            "In the  47 th row\n",
            "In the  48 th row\n",
            "In the  49 th row\n",
            "In the  50 th row\n",
            "In the  51 th row\n",
            "In the  52 th row\n",
            "In the  53 th row\n",
            "In the  54 th row\n",
            "In the  55 th row\n",
            "In the  56 th row\n",
            "In the  57 th row\n",
            "In the  58 th row\n",
            "In the  59 th row\n",
            "In the  60 th row\n",
            "In the  61 th row\n",
            "In the  62 th row\n",
            "In the  63 th row\n",
            "In the  64 th row\n",
            "In the  65 th row\n",
            "In the  66 th row\n",
            "In the  67 th row\n",
            "In the  68 th row\n",
            "In the  69 th row\n",
            "In the  70 th row\n",
            "In the  71 th row\n",
            "In the  72 th row\n",
            "In the  73 th row\n",
            "In the  74 th row\n",
            "In the  75 th row\n",
            "In the  76 th row\n",
            "In the  77 th row\n",
            "In the  78 th row\n",
            "In the  79 th row\n",
            "In the  80 th row\n",
            "In the  81 th row\n",
            "In the  82 th row\n",
            "In the  83 th row\n",
            "In the  84 th row\n",
            "In the  85 th row\n",
            "In the  86 th row\n",
            "In the  87 th row\n",
            "In the  88 th row\n",
            "In the  89 th row\n",
            "In the  90 th row\n",
            "In the  91 th row\n",
            "In the  92 th row\n",
            "In the  93 th row\n",
            "In the  94 th row\n",
            "In the  95 th row\n",
            "In the  96 th row\n",
            "In the  97 th row\n",
            "In the  98 th row\n",
            "In the  99 th row\n",
            "In the  100 th row\n",
            "In the  101 th row\n",
            "In the  102 th row\n",
            "In the  103 th row\n",
            "In the  104 th row\n",
            "In the  105 th row\n",
            "In the  106 th row\n",
            "In the  107 th row\n",
            "In the  108 th row\n",
            "In the  109 th row\n",
            "In the  110 th row\n",
            "In the  111 th row\n",
            "In the  112 th row\n",
            "In the  113 th row\n",
            "In the  114 th row\n",
            "In the  115 th row\n",
            "In the  116 th row\n",
            "In the  117 th row\n",
            "In the  118 th row\n",
            "In the  119 th row\n",
            "In the  120 th row\n",
            "In the  121 th row\n",
            "In the  122 th row\n",
            "In the  123 th row\n",
            "In the  124 th row\n",
            "In the  125 th row\n",
            "In the  126 th row\n",
            "In the  127 th row\n",
            "In the  128 th row\n",
            "In the  129 th row\n",
            "In the  130 th row\n",
            "In the  131 th row\n",
            "In the  132 th row\n",
            "In the  133 th row\n",
            "In the  134 th row\n",
            "In the  135 th row\n",
            "In the  136 th row\n",
            "In the  137 th row\n",
            "In the  138 th row\n",
            "In the  139 th row\n",
            "In the  140 th row\n",
            "In the  141 th row\n",
            "In the  142 th row\n",
            "In the  143 th row\n",
            "In the  144 th row\n",
            "In the  145 th row\n",
            "In the  146 th row\n",
            "In the  147 th row\n",
            "In the  148 th row\n",
            "In the  149 th row\n",
            "In the  150 th row\n",
            "In the  151 th row\n",
            "In the  152 th row\n",
            "In the  153 th row\n",
            "In the  154 th row\n",
            "In the  155 th row\n",
            "In the  156 th row\n",
            "In the  157 th row\n",
            "In the  158 th row\n",
            "In the  159 th row\n",
            "In the  160 th row\n",
            "In the  161 th row\n",
            "In the  162 th row\n",
            "In the  163 th row\n",
            "In the  164 th row\n",
            "In the  165 th row\n",
            "In the  166 th row\n",
            "In the  167 th row\n",
            "In the  168 th row\n",
            "In the  169 th row\n",
            "In the  170 th row\n",
            "In the  171 th row\n",
            "In the  172 th row\n",
            "In the  173 th row\n",
            "In the  174 th row\n",
            "In the  175 th row\n",
            "In the  176 th row\n",
            "In the  177 th row\n",
            "In the  178 th row\n",
            "In the  179 th row\n",
            "In the  180 th row\n",
            "In the  181 th row\n",
            "In the  182 th row\n",
            "In the  183 th row\n",
            "In the  184 th row\n",
            "In the  185 th row\n",
            "In the  186 th row\n",
            "In the  187 th row\n",
            "In the  188 th row\n",
            "In the  189 th row\n",
            "In the  190 th row\n",
            "In the  191 th row\n",
            "In the  192 th row\n",
            "In the  193 th row\n",
            "In the  194 th row\n",
            "In the  195 th row\n",
            "In the  196 th row\n",
            "In the  197 th row\n",
            "In the  198 th row\n",
            "In the  199 th row\n",
            "In the  200 th row\n",
            "In the  201 th row\n",
            "In the  202 th row\n",
            "In the  203 th row\n",
            "In the  204 th row\n",
            "In the  205 th row\n",
            "In the  206 th row\n",
            "In the  207 th row\n",
            "In the  208 th row\n",
            "In the  209 th row\n",
            "In the  210 th row\n",
            "In the  211 th row\n",
            "In the  212 th row\n",
            "In the  213 th row\n",
            "In the  214 th row\n",
            "In the  215 th row\n",
            "In the  216 th row\n",
            "In the  217 th row\n",
            "In the  218 th row\n",
            "In the  219 th row\n",
            "In the  220 th row\n",
            "In the  221 th row\n",
            "In the  222 th row\n",
            "In the  223 th row\n",
            "In the  224 th row\n",
            "In the  225 th row\n",
            "In the  226 th row\n",
            "In the  227 th row\n",
            "In the  228 th row\n",
            "In the  229 th row\n",
            "In the  230 th row\n",
            "In the  231 th row\n",
            "In the  232 th row\n",
            "In the  233 th row\n",
            "In the  234 th row\n",
            "In the  235 th row\n",
            "In the  236 th row\n",
            "In the  237 th row\n",
            "In the  238 th row\n",
            "In the  239 th row\n",
            "In the  240 th row\n",
            "In the  241 th row\n",
            "In the  242 th row\n",
            "In the  243 th row\n",
            "In the  244 th row\n",
            "In the  245 th row\n",
            "In the  246 th row\n",
            "In the  247 th row\n",
            "In the  248 th row\n",
            "In the  249 th row\n",
            "In the  250 th row\n",
            "In the  251 th row\n",
            "In the  252 th row\n",
            "In the  253 th row\n",
            "In the  254 th row\n",
            "In the  255 th row\n",
            "In the  256 th row\n",
            "In the  257 th row\n",
            "In the  258 th row\n",
            "In the  259 th row\n",
            "In the  260 th row\n",
            "In the  261 th row\n",
            "In the  262 th row\n",
            "In the  263 th row\n",
            "In the  264 th row\n",
            "In the  265 th row\n",
            "In the  266 th row\n",
            "In the  267 th row\n",
            "In the  268 th row\n",
            "In the  269 th row\n",
            "In the  270 th row\n",
            "In the  271 th row\n",
            "In the  272 th row\n",
            "In the  273 th row\n",
            "In the  274 th row\n",
            "In the  275 th row\n",
            "In the  276 th row\n",
            "In the  277 th row\n",
            "In the  278 th row\n",
            "In the  279 th row\n",
            "In the  280 th row\n",
            "In the  281 th row\n",
            "In the  282 th row\n",
            "In the  283 th row\n",
            "In the  284 th row\n",
            "In the  285 th row\n",
            "In the  286 th row\n",
            "In the  287 th row\n",
            "In the  288 th row\n",
            "In the  289 th row\n",
            "In the  290 th row\n",
            "In the  291 th row\n",
            "In the  292 th row\n",
            "In the  293 th row\n",
            "In the  294 th row\n",
            "In the  295 th row\n",
            "In the  296 th row\n",
            "In the  297 th row\n",
            "In the  298 th row\n",
            "In the  299 th row\n",
            "In the  300 th row\n",
            "In the  301 th row\n",
            "In the  302 th row\n",
            "In the  303 th row\n",
            "In the  304 th row\n",
            "In the  305 th row\n",
            "In the  306 th row\n",
            "In the  307 th row\n",
            "In the  308 th row\n",
            "In the  309 th row\n",
            "In the  310 th row\n",
            "In the  311 th row\n",
            "In the  312 th row\n",
            "In the  313 th row\n",
            "In the  314 th row\n",
            "In the  315 th row\n",
            "In the  316 th row\n",
            "In the  317 th row\n",
            "In the  318 th row\n",
            "In the  319 th row\n",
            "In the  320 th row\n",
            "In the  321 th row\n",
            "In the  322 th row\n",
            "In the  323 th row\n",
            "In the  324 th row\n",
            "In the  325 th row\n",
            "In the  326 th row\n",
            "In the  327 th row\n",
            "In the  328 th row\n",
            "In the  329 th row\n",
            "In the  330 th row\n",
            "In the  331 th row\n",
            "In the  332 th row\n",
            "In the  333 th row\n",
            "In the  334 th row\n",
            "In the  335 th row\n",
            "In the  336 th row\n",
            "In the  337 th row\n",
            "In the  338 th row\n",
            "In the  339 th row\n",
            "In the  340 th row\n",
            "In the  341 th row\n",
            "In the  342 th row\n",
            "In the  343 th row\n",
            "In the  344 th row\n",
            "In the  345 th row\n",
            "In the  346 th row\n",
            "In the  347 th row\n",
            "In the  348 th row\n",
            "In the  349 th row\n",
            "In the  350 th row\n",
            "In the  351 th row\n",
            "In the  352 th row\n",
            "In the  353 th row\n",
            "In the  354 th row\n",
            "In the  355 th row\n",
            "In the  356 th row\n",
            "In the  357 th row\n",
            "In the  358 th row\n",
            "In the  359 th row\n",
            "In the  360 th row\n",
            "In the  361 th row\n",
            "In the  362 th row\n",
            "In the  363 th row\n",
            "In the  364 th row\n",
            "In the  365 th row\n",
            "In the  366 th row\n",
            "In the  367 th row\n",
            "In the  368 th row\n",
            "In the  369 th row\n",
            "In the  370 th row\n",
            "In the  371 th row\n",
            "In the  372 th row\n",
            "In the  373 th row\n",
            "In the  374 th row\n",
            "In the  375 th row\n",
            "In the  376 th row\n",
            "In the  377 th row\n",
            "In the  378 th row\n",
            "In the  379 th row\n",
            "In the  380 th row\n",
            "In the  381 th row\n",
            "In the  382 th row\n",
            "In the  383 th row\n"
          ]
        }
      ]
    },
    {
      "cell_type": "code",
      "source": [
        "# img = [padImage(I[0],14),padImage(I[1],14)]\n",
        "# u = PerformThreeStepSearch(img,7)\n",
        "plt.imshow(final_image,cmap = 'gray')\n",
        "plt.show()\n"
      ],
      "metadata": {
        "colab": {
          "base_uri": "https://localhost:8080/",
          "height": 269
        },
        "id": "w2s8otcnLT_-",
        "outputId": "18fbed46-8db5-4439-f48c-13037310f5ed"
      },
      "execution_count": 11,
      "outputs": [
        {
          "output_type": "display_data",
          "data": {
            "text/plain": [
              "<Figure size 432x288 with 1 Axes>"
            ],
            "image/png": "[encoded data removed]"
          },
          "metadata": {
            "needs_background": "light"
          }
        }
      ]
    },
    {
      "cell_type": "code",
      "source": [
        "def error(img1,img2):\n",
        "  sum = 0\n",
        "  l1 = len(img1)\n",
        "  l2 = len(img1[0])\n",
        "  for i in range(len(img1)):\n",
        "    for j in range(len(img1[0])):\n",
        "        sum += (img1[i][j]-img2[i][j])**2\n",
        "        \n",
        "  mse = sum/(l1*l2)\n",
        "  return mse"
      ],
      "metadata": {
        "id": "_tg2KawlEhQm"
      },
      "execution_count": 12,
      "outputs": []
    },
    {
      "cell_type": "code",
      "source": [
        "final_img = np.array(final_image)\n",
        "final_img.shape\n",
        "a.shape\n",
        "error(final_img,a)"
      ],
      "metadata": {
        "colab": {
          "base_uri": "https://localhost:8080/"
        },
        "id": "cbIuTRMaL1Gq",
        "outputId": "10e4d6bd-c715-4f8d-f861-1f1f50106120"
      },
      "execution_count": 13,
      "outputs": [
        {
          "output_type": "execute_result",
          "data": {
            "text/plain": [
              "2.9476777815029638e+29"
            ]
          },
          "metadata": {},
          "execution_count": 13
        }
      ]
    },
    {
      "cell_type": "markdown",
      "source": [
        "# **Question 2**"
      ],
      "metadata": {
        "id": "R0FqGksgWCE2"
      }
    },
    {
      "cell_type": "markdown",
      "source": [
        "**Exhaustive** **Search**"
      ],
      "metadata": {
        "id": "P8usgqu-WHNq"
      }
    },
    {
      "cell_type": "code",
      "source": [
        "## function to calulate the cost function\n",
        "## I[0] = reference frame\n",
        "## I[1] = current frame\n",
        "## k,l are the indexes for the current frame and m,n are the indexes for the reference frame\n",
        "\n",
        "def MSE(k,l,m,n,I):\n",
        "  s = 0\n",
        "  # I = np.array(I).astype('float64')\n",
        "  for i in range(16):\n",
        "    for j in range(16):\n",
        "      s += (I[1][k+i][l+j] - I[0][m+i][n+j]) ** 2\n",
        "  return s/256\n"
      ],
      "metadata": {
        "id": "hYk11jlRWAw2"
      },
      "execution_count": 9,
      "outputs": []
    },
    {
      "cell_type": "code",
      "source": [
        "## function to find the matching block\n",
        "## p is the search parameter defining the search window\n",
        "\n",
        "def blockMatch(k,l,I,p):\n",
        "  # I = np.array(I).astype('float64')\n",
        "  min = MSE(k,l,k-p,l-p,I)\n",
        "  xloc,yloc = k-p,l-p\n",
        "  for i in range(-p,p):\n",
        "    for j in range(-p,p):\n",
        "      if MSE(k,l,k+i,l+j,I) < min:\n",
        "        min = MSE(k,l,k+i,l+j,I)\n",
        "        xloc = k+i\n",
        "        yloc = l+j\n",
        "  return xloc,yloc"
      ],
      "metadata": {
        "id": "BuM0YgyAbkzc"
      },
      "execution_count": 15,
      "outputs": []
    },
    {
      "cell_type": "code",
      "source": [
        "# Performing the exhaustive search\n",
        "# I is a padded image\n",
        "\n",
        "def PerformExhaustiveSearch(I,p):\n",
        "  # I = np.array(I).astype('float64')\n",
        "  vf = len(I[0])-16-p\n",
        "  hf = len(I[0][0])-16-p\n",
        "  print(hf)\n",
        "  u = np.zeros((len(I[0]),len(I[0][0])))\n",
        "  for i in range(p,vf,16):\n",
        "    print(\"In the \",i,\"th row\")\n",
        "    for j in range(p,hf,16):\n",
        "      xloc, yloc = blockMatch(i,j,I,p)\n",
        "      for m in range(16):\n",
        "        for n in range(16):\n",
        "          u[i+m][j+n] = np.sqrt((xloc-i)**2 + (yloc-j)**2)\n",
        "\n",
        "  return u\n"
      ],
      "metadata": {
        "id": "h2ABJqDCr3If"
      },
      "execution_count": 16,
      "outputs": []
    },
    {
      "cell_type": "code",
      "source": [
        "I = np.array(I).astype('float64')\n",
        "img = [padImage(I[0],14),padImage(I[1],14)]\n",
        "u = PerformExhaustiveSearch(img,7)\n",
        "\n",
        "# plt.imshow(u,cmap = 'gray')\n",
        "\n",
        "# plt.show()"
      ],
      "metadata": {
        "colab": {
          "base_uri": "https://localhost:8080/"
        },
        "id": "i2xhUBb80Gsh",
        "outputId": "b621b7b6-cb8a-44a7-c8c9-17cd6e53ecc2"
      },
      "execution_count": 17,
      "outputs": [
        {
          "output_type": "stream",
          "name": "stdout",
          "text": [
            "503\n",
            "In the  7 th row\n",
            "In the  23 th row\n",
            "In the  39 th row\n",
            "In the  55 th row\n",
            "In the  71 th row\n",
            "In the  87 th row\n",
            "In the  103 th row\n",
            "In the  119 th row\n",
            "In the  135 th row\n",
            "In the  151 th row\n",
            "In the  167 th row\n",
            "In the  183 th row\n",
            "In the  199 th row\n",
            "In the  215 th row\n",
            "In the  231 th row\n",
            "In the  247 th row\n",
            "In the  263 th row\n",
            "In the  279 th row\n",
            "In the  295 th row\n",
            "In the  311 th row\n",
            "In the  327 th row\n",
            "In the  343 th row\n",
            "In the  359 th row\n"
          ]
        }
      ]
    },
    {
      "cell_type": "code",
      "source": [
        "error(a,u)"
      ],
      "metadata": {
        "colab": {
          "base_uri": "https://localhost:8080/"
        },
        "id": "yGNfS32Zrsyq",
        "outputId": "023b43c7-6e5b-4cb5-9a47-6a50a3f1b760"
      },
      "execution_count": 18,
      "outputs": [
        {
          "output_type": "execute_result",
          "data": {
            "text/plain": [
              "1014.8438576562863"
            ]
          },
          "metadata": {},
          "execution_count": 18
        }
      ]
    },
    {
      "cell_type": "markdown",
      "source": [
        "**Three** **Step** **Search**"
      ],
      "metadata": {
        "id": "oKdloA_fakAQ"
      }
    },
    {
      "cell_type": "code",
      "source": [
        "# function for block mathching using three step search\n",
        "# s is the step size\n",
        "\n",
        "def blockMatch2(k,l,I,p):\n",
        "  I = np.array(I).astype('float64')\n",
        "  s = 4\n",
        "  while(s >= 1):\n",
        "    min = MSE(k,l,k-p,l-p,I)\n",
        "    for i in range(-p,p,s):\n",
        "      for j in range(-p,p,s):\n",
        "        if MSE(k,l,k+i,l+j,I) < min:\n",
        "          min = MSE(k,l,k+i,l+j,I)\n",
        "          k = k+i\n",
        "          l = l+j\n",
        "    s = s//2\n",
        "\n",
        "  return k,l"
      ],
      "metadata": {
        "id": "GKqebq3fCBKT"
      },
      "execution_count": 19,
      "outputs": []
    },
    {
      "cell_type": "code",
      "source": [
        "# Performing the threes step search\n",
        "# I is a padded image\n",
        "\n",
        "def PerformThreeStepSearch(I,p):\n",
        "  I = np.array(I).astype('float64')\n",
        "  vf = len(I[0])-16-p\n",
        "  hf = len(I[0][0])-16-p\n",
        "  u = np.zeros((len(I[0]),len(I[0][0])))\n",
        "  for i in range(p,vf,16):\n",
        "    print(\"In the \",i,\"th row\")\n",
        "    for j in range(p,hf,16):\n",
        "      print(\"In the \",j,\"th col\")\n",
        "      xloc, yloc = blockMatch2(i,j,I,p)\n",
        "      print('xloc,yloc = ',xloc,yloc)\n",
        "      for m in range(16):\n",
        "        for n in range(16):\n",
        "          u[i+m][j+n] = np.sqrt((xloc-i)**2 + (yloc-j)**2)\n",
        "\n",
        "  return u"
      ],
      "metadata": {
        "id": "AfW8S9TYkNY9"
      },
      "execution_count": 20,
      "outputs": []
    },
    {
      "cell_type": "code",
      "source": [
        "I = np.array(I).astype('float64')\n",
        "img = [padImage(I[0],14*4),padImage(I[1],14*4)]\n",
        "u = PerformThreeStepSearch(img,7)"
      ],
      "metadata": {
        "id": "CKEWaL67LLh8"
      },
      "execution_count": null,
      "outputs": []
    },
    {
      "cell_type": "code",
      "source": [
        "error(a,u)"
      ],
      "metadata": {
        "id": "N2t9p0XYpR7N",
        "colab": {
          "base_uri": "https://localhost:8080/"
        },
        "outputId": "fa4cc1a0-bc7b-4a61-e697-3518d618284f"
      },
      "execution_count": 26,
      "outputs": [
        {
          "output_type": "execute_result",
          "data": {
            "text/plain": [
              "3602.9871656836326"
            ]
          },
          "metadata": {},
          "execution_count": 26
        }
      ]
    },
    {
      "cell_type": "markdown",
      "source": [
        "**Diamond** **Search**"
      ],
      "metadata": {
        "id": "Bw8l6N5ouUYi"
      }
    },
    {
      "cell_type": "code",
      "source": [
        "def locations(kref,lref,s):\n",
        "  locations = [(kref,lref)]\n",
        "  for i in range(kref-s,kref+s+1):\n",
        "    for j in range(lref-s,lref+s+1):\n",
        "      if (abs(kref-i) + abs(lref-j)) == s:\n",
        "        locations.append((i,j))\n",
        "  return locations"
      ],
      "metadata": {
        "id": "1sCEtBy3-7IJ"
      },
      "execution_count": 4,
      "outputs": []
    },
    {
      "cell_type": "code",
      "source": [
        "def DiamondSearchSDSP(k,l,x0,y0,I):\n",
        "  # I = np.array(I).astype('float64')\n",
        "  s = 1\n",
        "  locs = locations(x0,y0,s)\n",
        "  min = MSE(k,l,x0,y0,I)\n",
        "  xmin,ymin = x0,y0\n",
        "  for loc in locs:\n",
        "    if MSE(k,l,loc[0],loc[1],I) < min:\n",
        "      min = MSE(k,l,loc[0],loc[1],I)\n",
        "      xmin,ymin = loc\n",
        "\n",
        "  return xmin,ymin\n",
        "\n"
      ],
      "metadata": {
        "id": "cjvWQ10e9HTU"
      },
      "execution_count": 5,
      "outputs": []
    },
    {
      "cell_type": "code",
      "source": [
        "\n",
        "def DiamondSearchLDSP(k,l,I):\n",
        "  # I = np.array(I).astype('float64')\n",
        "  s = 2\n",
        "  x0,y0 = k,l\n",
        "  xmin,ymin = k+8,l+8\n",
        "  count = 1\n",
        "  while((xmin,ymin) != (x0,y0)):\n",
        "    x0,y0 = xmin,ymin\n",
        "    locs = locations(x0,y0,s)\n",
        "    min = MSE(k,l,xmin,ymin,I)\n",
        "    for loc in locs:\n",
        "      if MSE(k,l,loc[0],loc[1],I) < min:\n",
        "        min = MSE(k,l,loc[0],loc[1],I)\n",
        "        xmin,ymin = loc\n",
        "\n",
        "\n",
        "  x0,y0 = xmin,ymin\n",
        "  xloc,yloc = DiamondSearchSDSP(k,l,x0,y0,I)\n",
        "  return xloc,yloc\n",
        "\n"
      ],
      "metadata": {
        "id": "Bls0VxLMwW-I"
      },
      "execution_count": 6,
      "outputs": []
    },
    {
      "cell_type": "code",
      "source": [
        "def DiamondSearch(I):\n",
        "  u = np.zeros((len(I[0]),len(I[0][0])))\n",
        "  for i in range(len(I)):\n",
        "    for j in range(len(I[0])):\n",
        "      t1,t2 = DiamondSearchLDSP(i,j,I)\n",
        "      u[i:i+16,j:j+16] = np.sqrt((t1-i)**2 + (t2-j)**2)\n",
        "\n",
        "  return u\n",
        "\n"
      ],
      "metadata": {
        "id": "O1yLE0q7ZS0S"
      },
      "execution_count": 17,
      "outputs": []
    },
    {
      "cell_type": "code",
      "source": [
        "I = np.array(I).astype('float64')\n",
        "u = DiamondSearch(I)\n"
      ],
      "metadata": {
        "id": "L8i9IpARuY8X"
      },
      "execution_count": 18,
      "outputs": []
    },
    {
      "cell_type": "code",
      "source": [
        "error(a,u)"
      ],
      "metadata": {
        "colab": {
          "base_uri": "https://localhost:8080/"
        },
        "id": "RQTr6yc4M8mA",
        "outputId": "6944afc7-157a-4031-8edc-cc84568ab7c9"
      },
      "execution_count": 21,
      "outputs": [
        {
          "output_type": "execute_result",
          "data": {
            "text/plain": [
              "1238.6358019564439"
            ]
          },
          "metadata": {},
          "execution_count": 21
        }
      ]
    }
  ],
  "metadata": {
    "colab": {
      "provenance": []
    },
    "kernelspec": {
      "display_name": "Python 3",
      "name": "python3"
    },
    "language_info": {
      "name": "python"
    },
    "gpuClass": "standard",
    "accelerator": "GPU"
  },
  "nbformat": 4,
  "nbformat_minor": 0
}