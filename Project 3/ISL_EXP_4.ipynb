{
  "cells": [
    {
      "cell_type": "code",
      "execution_count": null,
      "metadata": {
        "id": "34D-BNzj1izR"
      },
      "outputs": [],
      "source": [
        "import numpy as np\n",
        "import cv2 as cv\n",
        "import matplotlib.pyplot as plt"
      ]
    },
    {
      "cell_type": "markdown",
      "source": [
        "# **Question 1**"
      ],
      "metadata": {
        "id": "AatpSYQiTayI"
      }
    },
    {
      "cell_type": "code",
      "execution_count": null,
      "metadata": {
        "id": "FPr9ONeB1-7T"
      },
      "outputs": [],
      "source": [
        "#Loading of the numpy file and the images\n",
        "img1 = cv.imread(\"img1.jpg\",0)\n",
        "img2 = cv.imread(\"img2.jpg\",0)\n",
        "I = [img1,img2]\n",
        "a = np.load(\"GT2.npy\")\n"
      ]
    },
    {
      "cell_type": "code",
      "execution_count": null,
      "metadata": {
        "id": "Il8HNJdZ4dpB"
      },
      "outputs": [],
      "source": [
        "# function to calculate the partial derivatives\n",
        "# values t can take are restricted to 0 and 1\n",
        "\n",
        "def Ix(I,k,l,t):\n",
        "  I = np.array(I).astype('float64')\n",
        "  temp1 = I[t][k+1][l] + I[t][k+1][l+1] + I[t+1][k+1][l] + I[t+1][k+1][l+1]\n",
        "  temp2 = I[t][k][l] + I[t][k][l+1] + I[t+1][k][l] + I[t+1][k][l+1]\n",
        "\n",
        "  return 0.25*(temp1 - temp2)\n",
        "\n",
        "def Iy(I,k,l,t):\n",
        "  I = np.array(I).astype('float64')\n",
        "  temp1 = I[t][k][l+1] + I[t][k+1][l+1] + I[t+1][k][l+1] + I[t+1][k+1][l+1]\n",
        "  temp2 = I[t][k][l] + I[t][k+1][l] + I[t+1][k][l] + I[t+1][k+1][l]\n",
        "\n",
        "  return 0.25*(temp1 - temp2)\n",
        "\n",
        "def It(I,k,l,t):\n",
        "  I = np.array(I).astype('float64')\n",
        "  temp1 = I[t+1][k][l] + I[t+1][k][l+1] + I[t+1][k+1][l] + I[t+1][k+1][l+1]\n",
        "  temp2 = I[t][k][l] + I[t][k][l+1] + I[t][k+1][l] + I[t][k+1][l+1]\n",
        "\n",
        "  return 0.25*(temp1 - temp2)\n",
        "  "
      ]
    },
    {
      "cell_type": "code",
      "execution_count": null,
      "metadata": {
        "id": "g2vIZNjXL-Id"
      },
      "outputs": [],
      "source": [
        "# padding of the image\n",
        "def padImage(img,size):\n",
        "  w = size//2\n",
        "  img = np.pad(img,((w,w),(w,w)), 'constant', constant_values = 0)\n",
        "  return img"
      ]
    },
    {
      "cell_type": "code",
      "execution_count": null,
      "metadata": {
        "id": "Tg3Mw71jHAq8"
      },
      "outputs": [],
      "source": [
        "# Calculation of optical flow at a particular pixel location using window size s\n",
        "\n",
        "def opflow(I,k,l,size):\n",
        "  w = size//2\n",
        "  t = 0\n",
        "  A = []\n",
        "  B = []\n",
        "  for i in range(k-w,k+1+w):\n",
        "    for j in range(l-w,l+1+w):\n",
        "      A.append([Ix(I,i,j,t),Iy(I,i,j,t)])\n",
        "      B.append(It(I,i,j,t))\n",
        "\n",
        "  u = np.linalg.lstsq(A,B,)\n",
        "  u = u[0]\n",
        "  temp = np.sqrt(u[0]**2 + u[1]**2)\n",
        "\n",
        "  return temp\n",
        "\n"
      ]
    },
    {
      "cell_type": "code",
      "execution_count": null,
      "metadata": {
        "id": "I-upcfJlFZcG"
      },
      "outputs": [],
      "source": [
        "## Calculating the optical flow at every pixel\n",
        "\n",
        "def compute_opflow(I,size):\n",
        "  w = size//2\n",
        "  u = []\n",
        "  for i in range(w,len(I[0])-2*w):\n",
        "    print(\"In the \",i,\"th row\")\n",
        "    r = []\n",
        "    for j in range(w,len(I[0][0])-2*w):\n",
        "      t = opflow(I,i,j,size)\n",
        "      r.append(t)\n",
        "    u.append(r)\n",
        "\n",
        "  return u\n",
        "\n"
      ]
    },
    {
      "cell_type": "markdown",
      "source": [
        "# **Question 2**"
      ],
      "metadata": {
        "id": "R0FqGksgWCE2"
      }
    },
    {
      "cell_type": "markdown",
      "source": [
        "**Exhaustive** **Search**"
      ],
      "metadata": {
        "id": "P8usgqu-WHNq"
      }
    },
    {
      "cell_type": "code",
      "source": [
        "## function to calulate the cost function\n",
        "## I[0] = reference frame\n",
        "## I[1] = current frame\n",
        "\n",
        "def MSE(k,l,I):\n",
        "  s = 0\n",
        "  I = np.array(I).astype('float64')\n",
        "  for i in range(k,k+16):\n",
        "    for j in range(l,l+16):\n",
        "      s += (I[1][i][j] - I[0][i][j]) ** 2\n",
        "  return s/256\n"
      ],
      "metadata": {
        "id": "hYk11jlRWAw2"
      },
      "execution_count": null,
      "outputs": []
    },
    {
      "cell_type": "code",
      "source": [
        "## function to find the matching block\n",
        "## p is the search parameter defining the search window\n",
        "\n",
        "def blockMatch(k,l,I,p):\n",
        "  I = np.array(I).astype('float64')\n",
        "  min = MSE(k-p,l-p,I)\n",
        "  xloc,yloc = k-p,l-p\n",
        "  for i in range(-p,p):\n",
        "    for j in range(-p,p):\n",
        "      if min < MSE(k+i,l+j,I):\n",
        "        min = MSE(k+i,l+j,I)\n",
        "        xloc = k+i\n",
        "        yloc = l+j\n",
        "  return xloc,yloc"
      ],
      "metadata": {
        "id": "BuM0YgyAbkzc"
      },
      "execution_count": null,
      "outputs": []
    },
    {
      "cell_type": "code",
      "source": [
        "# Performing the exhaustive search\n",
        "# I is a padded image\n",
        "\n",
        "def PerformExhaustiveSearch(I,p):\n",
        "  I = np.array(I).astype('float64')\n",
        "  vf = len(I[0])-16-p\n",
        "  hf = len(I[0][0])-16-p\n",
        "  print(hf)\n",
        "  u = np.zeros((len(I[0]),len(I[0][0])))\n",
        "  for i in range(p,vf,16):\n",
        "    print(\"In the \",i,\"th row\")\n",
        "    for j in range(p,hf,16):\n",
        "      print(\"In the \",j,\"th col\")\n",
        "      xloc, yloc = blockMatch(i,j,I,p)\n",
        "      print('xloc,yloc = ',xloc,yloc)\n",
        "      for m in range(16):\n",
        "        for n in range(16):\n",
        "          u[i+m][j+n] = I[1][i+m][j+n]-I[0][m+xloc][n+yloc]\n",
        "\n",
        "  return u"
      ],
      "metadata": {
        "id": "h2ABJqDCr3If"
      },
      "execution_count": null,
      "outputs": []
    },
    {
      "cell_type": "code",
      "source": [
        "imgPad = [padImage(I[0],14),padImage(I[1],14)]"
      ],
      "metadata": {
        "id": "Vpmr27D25XAs"
      },
      "execution_count": null,
      "outputs": []
    },
    {
      "cell_type": "code",
      "source": [],
      "metadata": {
        "id": "GKqebq3fCBKT"
      },
      "execution_count": null,
      "outputs": []
    }
  ],
  "metadata": {
    "colab": {
      "provenance": []
    },
    "kernelspec": {
      "display_name": "Python 3",
      "name": "python3"
    },
    "language_info": {
      "name": "python"
    },
    "gpuClass": "standard",
    "accelerator": "GPU"
  },
  "nbformat": 4,
  "nbformat_minor": 0
}